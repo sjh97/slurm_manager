{
 "cells": [
  {
   "cell_type": "code",
   "execution_count": 1,
   "metadata": {},
   "outputs": [],
   "source": [
    "from utils import run_batch"
   ]
  },
  {
   "cell_type": "code",
   "execution_count": 4,
   "metadata": {},
   "outputs": [
    {
     "name": "stdout",
     "output_type": "stream",
     "text": [
      "[Attempt 1] Submitting job...\n",
      "Job ID 389835 submitted. Waiting for completion...\n",
      "Job status: COMPLETED\n",
      "Job completed successfully.\n"
     ]
    }
   ],
   "source": [
    "script_path = \"/home/tlswpgus22/slurm_manager/backbone.sh\"\n",
    "\n",
    "sbatch_options = {\n",
    "    \"partition\": \"all\",\n",
    "    \"job-name\": \"comsol_job\",\n",
    "    \"time\": \"10-40:00:00\",\n",
    "    \"nodelist\": \"node32\"\n",
    "}\n",
    "\n",
    "save_dir = \"/home/tlswpgus22/slurm_manager/log/test\"\n",
    "\n",
    "run_batch(script_path, save_dir=save_dir, sbatch_options=sbatch_options, wait_interval=2, verbose=False)\n"
   ]
  }
 ],
 "metadata": {
  "kernelspec": {
   "display_name": "Python 3",
   "language": "python",
   "name": "python3"
  },
  "language_info": {
   "codemirror_mode": {
    "name": "ipython",
    "version": 3
   },
   "file_extension": ".py",
   "mimetype": "text/x-python",
   "name": "python",
   "nbconvert_exporter": "python",
   "pygments_lexer": "ipython3",
   "version": "3.10.9"
  }
 },
 "nbformat": 4,
 "nbformat_minor": 2
}
